{
 "cells": [
  {
   "cell_type": "code",
   "execution_count": 9,
   "metadata": {
    "collapsed": true
   },
   "outputs": [],
   "source": [
    "from sklearn import datasets\n",
    "import pandas as pd\n",
    "from sklearn.preprocessing import StandardScaler\n",
    "from sklearn.cross_validation import train_test_split\n",
    "from sklearn.metrics import mean_squared_error\n",
    "from sklearn.metrics import r2_score\n",
    "from sklearn.linear_model import LinearRegression\n",
    "from sklearn import linear_model\n",
    "from sklearn.linear_model import Lasso"
   ]
  },
  {
   "cell_type": "code",
   "execution_count": 2,
   "metadata": {
    "collapsed": true
   },
   "outputs": [],
   "source": [
    "def load_boston():\n",
    "    scaler = StandardScaler()\n",
    "    boston = datasets.load_boston()\n",
    "    X=boston.data\n",
    "    y=boston.target\n",
    "    X = scaler.fit_transform(X)\n",
    "    return train_test_split(X,y)"
   ]
  },
  {
   "cell_type": "code",
   "execution_count": 3,
   "metadata": {
    "collapsed": true
   },
   "outputs": [],
   "source": [
    "X_train, X_test, y_train, y_test = load_boston()"
   ]
  },
  {
   "cell_type": "code",
   "execution_count": 4,
   "metadata": {
    "collapsed": false
   },
   "outputs": [
    {
     "data": {
      "text/plain": [
       "LinearRegression(copy_X=True, fit_intercept=True, n_jobs=1, normalize=False)"
      ]
     },
     "execution_count": 4,
     "metadata": {},
     "output_type": "execute_result"
    }
   ],
   "source": [
    "clf = LinearRegression()\n",
    "clf.fit(X_train, y_train)"
   ]
  },
  {
   "cell_type": "code",
   "execution_count": 5,
   "metadata": {
    "collapsed": false
   },
   "outputs": [
    {
     "data": {
      "text/plain": [
       "[(21.699999999999999, 23.469688388602023),\n",
       " (30.100000000000001, 28.957926542947448),\n",
       " (18.399999999999999, 19.51992269774961),\n",
       " (19.399999999999999, 17.487206262693228),\n",
       " (24.100000000000001, 28.567300942065273),\n",
       " (29.100000000000001, 31.552121434924736),\n",
       " (45.399999999999999, 38.76892193656505),\n",
       " (20.0, 22.321185813231757),\n",
       " (15.699999999999999, 15.613983523051283),\n",
       " (12.699999999999999, 16.920961720807213),\n",
       " (17.800000000000001, 17.950349726727548),\n",
       " (15.6, 12.693294053924564),\n",
       " (23.5, 29.930057345989631),\n",
       " (21.800000000000001, 20.160332703491559),\n",
       " (24.699999999999999, 25.55550008375959),\n",
       " (23.100000000000001, 18.282045061630711),\n",
       " (31.600000000000001, 31.903655259740248),\n",
       " (23.699999999999999, 28.722120989492325),\n",
       " (20.399999999999999, 20.516817286734629),\n",
       " (8.0999999999999996, 3.6156153177094126),\n",
       " (21.699999999999999, 21.688295008179225),\n",
       " (16.100000000000001, 18.301115235817335),\n",
       " (20.100000000000001, 20.861387397887778),\n",
       " (20.300000000000001, 22.86144563750182),\n",
       " (15.199999999999999, 10.56592977509384),\n",
       " (5.0, 7.590454389295278),\n",
       " (26.5, 25.371712391608138),\n",
       " (19.800000000000001, 18.544117968388459),\n",
       " (14.4, 10.513010179811465),\n",
       " (34.899999999999999, 34.407648358165929),\n",
       " (19.100000000000001, 16.492750336645138),\n",
       " (50.0, 22.972459438279106),\n",
       " (20.0, 21.273099566090348),\n",
       " (22.600000000000001, 25.732024964893995),\n",
       " (20.5, 20.558632593908371),\n",
       " (13.5, 14.284356238728076),\n",
       " (20.699999999999999, 22.086619489686711),\n",
       " (28.399999999999999, 28.394105626701212),\n",
       " (18.5, 19.437869525820506),\n",
       " (15.1, 16.147005068000897),\n",
       " (32.5, 29.820924883934232),\n",
       " (19.899999999999999, 18.267744051381818),\n",
       " (18.699999999999999, 17.678185963211693),\n",
       " (22.600000000000001, 18.477871361006326),\n",
       " (22.800000000000001, 26.024167246837354),\n",
       " (23.0, 22.334044357751779),\n",
       " (18.600000000000001, 16.920676393932109),\n",
       " (20.0, 17.812157496561628),\n",
       " (15.6, 12.966385692577139),\n",
       " (37.200000000000003, 32.997127731420584),\n",
       " (25.0, 27.270710102274492),\n",
       " (22.199999999999999, 24.161331652562488),\n",
       " (14.9, 16.856649118810065),\n",
       " (19.0, 21.700544651068586),\n",
       " (23.800000000000001, 24.868261627857621),\n",
       " (29.600000000000001, 25.069860188659895),\n",
       " (31.100000000000001, 32.617950722171685),\n",
       " (33.299999999999997, 35.900478525200953),\n",
       " (43.100000000000001, 36.980670394951673),\n",
       " (7.0, 7.6057281366215044),\n",
       " (21.0, 23.114155950434682),\n",
       " (14.1, 17.016946838392489),\n",
       " (26.600000000000001, 22.785439792443256),\n",
       " (22.5, 22.775971757462582),\n",
       " (22.0, 27.776626188066707),\n",
       " (22.199999999999999, 20.119076695598501),\n",
       " (10.5, 5.6282543374481939),\n",
       " (13.9, 13.311159038037427),\n",
       " (23.899999999999999, 26.060836690255378),\n",
       " (50.0, 35.148646235325714),\n",
       " (21.100000000000001, 21.189710638577875),\n",
       " (20.300000000000001, 19.565993319598846),\n",
       " (26.600000000000001, 27.698989592348859),\n",
       " (24.300000000000001, 24.075435609749746),\n",
       " (22.0, 21.220397244752085),\n",
       " (21.399999999999999, 24.502595951771578),\n",
       " (12.699999999999999, 12.191206469788741),\n",
       " (13.1, 14.329797716905121),\n",
       " (19.300000000000001, 16.618636618192774),\n",
       " (22.899999999999999, 24.767991324836178),\n",
       " (28.699999999999999, 24.935360244158442),\n",
       " (16.0, 17.966842385725251),\n",
       " (48.5, 42.467890119029562),\n",
       " (33.399999999999999, 35.639139668473959),\n",
       " (50.0, 19.70453177024099),\n",
       " (25.0, 25.25486595614451),\n",
       " (32.0, 33.37980634729221),\n",
       " (24.399999999999999, 24.798397054704949),\n",
       " (14.5, 17.502793530308509),\n",
       " (35.200000000000003, 35.468384391165898),\n",
       " (20.600000000000001, 22.710805414488703),\n",
       " (23.100000000000001, 7.1060293267649453),\n",
       " (11.0, 14.543430233500526),\n",
       " (41.299999999999997, 31.401288700350086),\n",
       " (28.0, 28.623696746388383),\n",
       " (23.800000000000001, 21.847768410212169),\n",
       " (23.399999999999999, 24.396144697215632),\n",
       " (22.0, 21.92732180470923),\n",
       " (29.0, 30.550664340639038),\n",
       " (18.5, 18.908588433457073),\n",
       " (21.199999999999999, 21.244009424639373),\n",
       " (16.100000000000001, 20.418483163965156),\n",
       " (21.199999999999999, 22.924224923728389),\n",
       " (35.399999999999999, 34.421824946310259),\n",
       " (28.199999999999999, 32.489579501840694),\n",
       " (34.899999999999999, 30.319868516906606),\n",
       " (14.800000000000001, 15.060497047985766),\n",
       " (16.199999999999999, 19.813960952082837),\n",
       " (23.100000000000001, 24.246218382553444),\n",
       " (6.2999999999999998, 12.293713701758202),\n",
       " (50.0, 31.412124879119066),\n",
       " (30.800000000000001, 31.460984052144369),\n",
       " (17.800000000000001, 16.464417039086342),\n",
       " (26.399999999999999, 22.103333286372663),\n",
       " (11.5, 13.35703593355794),\n",
       " (39.799999999999997, 35.20616863718098),\n",
       " (18.5, 13.613714297920342),\n",
       " (15.199999999999999, 16.436612424868734),\n",
       " (27.100000000000001, 19.604274433921031),\n",
       " (36.399999999999999, 32.832638799995991),\n",
       " (18.699999999999999, 20.337467193672065),\n",
       " (12.300000000000001, 12.844438527228148),\n",
       " (15.0, 12.326515028518322),\n",
       " (8.8000000000000007, 5.1603995738875277),\n",
       " (19.199999999999999, 19.434579764194925),\n",
       " (31.699999999999999, 32.943687439071013),\n",
       " (19.300000000000001, 22.252651557545413)]"
      ]
     },
     "execution_count": 5,
     "metadata": {},
     "output_type": "execute_result"
    }
   ],
   "source": [
    "zip (y_test, clf.predict(X_test))"
   ]
  },
  {
   "cell_type": "code",
   "execution_count": 6,
   "metadata": {
    "collapsed": true
   },
   "outputs": [],
   "source": [
    "from sklearn.datasets import load_boston\n",
    "from sklearn.cross_validation import train_test_split\n",
    "import numpy as np\n",
    "np.random.seed(100)\n",
    "X, y = load_boston().data, load_boston().target\n",
    "X_train, X_test, y_train, y_test = train_test_split(X, y, test_size=.2)"
   ]
  },
  {
   "cell_type": "code",
   "execution_count": 18,
   "metadata": {
    "collapsed": false
   },
   "outputs": [
    {
     "name": "stdout",
     "output_type": "stream",
     "text": [
      "R^2: 0.755446732965\n"
     ]
    }
   ],
   "source": [
    "model = LinearRegression()\n",
    "model.fit(X_train, y_train)\n",
    "print \"R^2:\", model.score(X_test, y_test)"
   ]
  },
  {
   "cell_type": "code",
   "execution_count": 19,
   "metadata": {
    "collapsed": false
   },
   "outputs": [
    {
     "name": "stdout",
     "output_type": "stream",
     "text": [
      "mean squared error): 22.0\n"
     ]
    }
   ],
   "source": [
    "mse= mean_squared_error(y, model.predict(X))\n",
    "print(\"mean squared error): {:.3}\".format(mse))"
   ]
  },
  {
   "cell_type": "code",
   "execution_count": 20,
   "metadata": {
    "collapsed": false
   },
   "outputs": [
    {
     "name": "stdout",
     "output_type": "stream",
     "text": [
      "R^2: 0.739049861402\n"
     ]
    }
   ],
   "source": [
    "model=Lasso(alpha=0.1)\n",
    "model.fit(X_train, y_train)\n",
    "print \"R^2:\", model.score(X_test, y_test)"
   ]
  },
  {
   "cell_type": "code",
   "execution_count": 11,
   "metadata": {
    "collapsed": false
   },
   "outputs": [
    {
     "name": "stdout",
     "output_type": "stream",
     "text": [
      "mean squared error): 23.1\n"
     ]
    }
   ],
   "source": [
    "mse= mean_squared_error(y, model.predict(X))\n",
    "print(\"mean squared error): {:.3}\".format(mse))"
   ]
  },
  {
   "cell_type": "code",
   "execution_count": 12,
   "metadata": {
    "collapsed": false
   },
   "outputs": [
    {
     "data": {
      "text/plain": [
       "Lasso(alpha=0.5, copy_X=True, fit_intercept=True, max_iter=1000,\n",
       "   normalize=False, positive=False, precompute=False, random_state=None,\n",
       "   selection='cyclic', tol=0.0001, warm_start=False)"
      ]
     },
     "execution_count": 12,
     "metadata": {},
     "output_type": "execute_result"
    }
   ],
   "source": [
    "model=Lasso(alpha=0.5)\n",
    "model.fit(X_train, y_train)"
   ]
  },
  {
   "cell_type": "code",
   "execution_count": 13,
   "metadata": {
    "collapsed": false
   },
   "outputs": [
    {
     "name": "stdout",
     "output_type": "stream",
     "text": [
      "R^2: 0.722064013374\n"
     ]
    }
   ],
   "source": [
    "print \"R^2:\", model.score(X_test, y_test)"
   ]
  },
  {
   "cell_type": "code",
   "execution_count": 15,
   "metadata": {
    "collapsed": false
   },
   "outputs": [
    {
     "name": "stdout",
     "output_type": "stream",
     "text": [
      "mean squared error): 24.6\n"
     ]
    }
   ],
   "source": [
    "mse= mean_squared_error(y, model.predict(X))\n",
    "print(\"mean squared error): {:.3}\".format(mse))"
   ]
  },
  {
   "cell_type": "code",
   "execution_count": 16,
   "metadata": {
    "collapsed": false
   },
   "outputs": [
    {
     "name": "stdout",
     "output_type": "stream",
     "text": [
      "R^2: 0.677664390884\n"
     ]
    }
   ],
   "source": [
    "model=Lasso(alpha=1.0)\n",
    "model.fit(X_train, y_train)\n",
    "print \"R^2:\", model.score(X_test, y_test)"
   ]
  },
  {
   "cell_type": "code",
   "execution_count": 21,
   "metadata": {
    "collapsed": false
   },
   "outputs": [
    {
     "name": "stdout",
     "output_type": "stream",
     "text": [
      "mean squared error): 23.1\n"
     ]
    }
   ],
   "source": [
    "mse= mean_squared_error(y, model.predict(X))\n",
    "print(\"mean squared error): {:.3}\".format(mse))"
   ]
  },
  {
   "cell_type": "code",
   "execution_count": null,
   "metadata": {
    "collapsed": true
   },
   "outputs": [],
   "source": []
  }
 ],
 "metadata": {
  "kernelspec": {
   "display_name": "Python 2",
   "language": "python",
   "name": "python2"
  },
  "language_info": {
   "codemirror_mode": {
    "name": "ipython",
    "version": 2
   },
   "file_extension": ".py",
   "mimetype": "text/x-python",
   "name": "python",
   "nbconvert_exporter": "python",
   "pygments_lexer": "ipython2",
   "version": "2.7.10"
  }
 },
 "nbformat": 4,
 "nbformat_minor": 0
}
